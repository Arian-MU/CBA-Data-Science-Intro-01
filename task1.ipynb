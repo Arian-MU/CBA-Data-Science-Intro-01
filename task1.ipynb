{
 "cells": [
  {
   "cell_type": "code",
   "execution_count": 33,
   "id": "dc44a0c3-a604-40a1-8522-73a4de302602",
   "metadata": {
    "tags": []
   },
   "outputs": [
    {
     "name": "stdout",
     "output_type": "stream",
     "text": [
      "Requirement already satisfied: openpyxl in /Users/ariankalantari/anaconda3/lib/python3.11/site-packages (3.1.5)\n",
      "Requirement already satisfied: et-xmlfile in /Users/ariankalantari/anaconda3/lib/python3.11/site-packages (from openpyxl) (1.1.0)\n"
     ]
    }
   ],
   "source": [
    "!pip install --upgrade openpyxl"
   ]
  },
  {
   "cell_type": "code",
   "execution_count": 37,
   "id": "172f12a8-12ac-444e-a4d5-2b4a224a6416",
   "metadata": {
    "tags": []
   },
   "outputs": [],
   "source": [
    "# Import libraries\n",
    "import openpyxl"
   ]
  },
  {
   "cell_type": "code",
   "execution_count": 42,
   "id": "135746ef-e530-4efd-9a71-0fbea9d8d257",
   "metadata": {
    "tags": []
   },
   "outputs": [],
   "source": [
    "# Read xlsx file to start analysis task\n",
    "\n",
    "wb = openpyxl.load_workbook(\"supermarket_transactions.xlsx\")\n",
    "ws = wb[\"supermarket_transactions\"]"
   ]
  },
  {
   "cell_type": "code",
   "execution_count": 43,
   "id": "04b2d074-379a-462d-a7f0-edddf6ea6308",
   "metadata": {
    "tags": []
   },
   "outputs": [
    {
     "name": "stdout",
     "output_type": "stream",
     "text": [
      "Total number of rows: 50784. And total number of columns: 12\n"
     ]
    }
   ],
   "source": [
    "# Check the data shape \n",
    "\n",
    "print('Total number of rows: '+str(ws.max_row)+'. And total number of columns: '+str(ws.max_column))"
   ]
  },
  {
   "cell_type": "code",
   "execution_count": 44,
   "id": "df5b9d1f-268a-41bb-8d33-6e0a22e278d7",
   "metadata": {
    "tags": []
   },
   "outputs": [
    {
     "name": "stdout",
     "output_type": "stream",
     "text": [
      "[None, 'id', 'timestamp', 'quantity', 'product_id', 'product_name', 'unit_price', 'total_amount', 'store', 'payment_method', 'customer_id', 'customer_type']\n"
     ]
    }
   ],
   "source": [
    "# Check what the columns are\n",
    "\n",
    "values = [ws.cell(row=1,column=i).value for i in range(1,ws.max_column+1)]\n",
    "print(values)"
   ]
  },
  {
   "cell_type": "code",
   "execution_count": 45,
   "id": "632cbdce-e3de-4889-aa07-0c0b855c07f0",
   "metadata": {
    "tags": []
   },
   "outputs": [],
   "source": [
    "# Across locations, how many apples were purchased in cash?\n",
    "\n",
    "# How much total cash was spent on these apples?\n",
    "\n",
    "# Across all payment methods, how much money was spent at the Bakershire store location by non-member customers?"
   ]
  },
  {
   "cell_type": "code",
   "execution_count": 46,
   "id": "bbcf9446-c9c7-4421-8da7-591d9877fee4",
   "metadata": {
    "tags": []
   },
   "outputs": [],
   "source": [
    "num_apples_purchased_in_cash = '=SUMIF(H2:H50782 ,F2:F50782, \"apple\", J2:J50782, \"cash\")'\n"
   ]
  },
  {
   "cell_type": "code",
   "execution_count": 47,
   "id": "d96b0821-1024-4c2a-95bb-6d30e64b72b9",
   "metadata": {
    "tags": []
   },
   "outputs": [
    {
     "name": "stdout",
     "output_type": "stream",
     "text": [
      "=SUMIF(H2:H50782 ,F2:F50782, \"apple\", J2:J50782, \"cash\")\n"
     ]
    }
   ],
   "source": [
    "print(num_apples_purchased_in_cash)"
   ]
  },
  {
   "cell_type": "code",
   "execution_count": null,
   "id": "4f25d929-6a8b-4120-b513-acbb280c680b",
   "metadata": {},
   "outputs": [],
   "source": []
  },
  {
   "cell_type": "code",
   "execution_count": null,
   "id": "bc3fd1e2-968c-4b62-9f38-669d86f6385b",
   "metadata": {},
   "outputs": [],
   "source": []
  },
  {
   "cell_type": "code",
   "execution_count": null,
   "id": "3cb95b70-dc93-4e4c-b176-7fbf707c1b5c",
   "metadata": {},
   "outputs": [],
   "source": []
  },
  {
   "cell_type": "code",
   "execution_count": null,
   "id": "747fa952-b143-4a5a-bca6-65fd92995c2c",
   "metadata": {},
   "outputs": [],
   "source": []
  }
 ],
 "metadata": {
  "kernelspec": {
   "display_name": "Python 3 (ipykernel)",
   "language": "python",
   "name": "python3"
  },
  "language_info": {
   "codemirror_mode": {
    "name": "ipython",
    "version": 3
   },
   "file_extension": ".py",
   "mimetype": "text/x-python",
   "name": "python",
   "nbconvert_exporter": "python",
   "pygments_lexer": "ipython3",
   "version": "3.11.5"
  }
 },
 "nbformat": 4,
 "nbformat_minor": 5
}
