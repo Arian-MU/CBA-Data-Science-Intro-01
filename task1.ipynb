{
  "cells": [
    {
      "cell_type": "code",
      "execution_count": 2,
      "id": "172f12a8-12ac-444e-a4d5-2b4a224a6416",
      "metadata": {
        "tags": [],
        "id": "172f12a8-12ac-444e-a4d5-2b4a224a6416"
      },
      "outputs": [],
      "source": [
        "# Import libraries\n",
        "import pandas as pd"
      ]
    },
    {
      "cell_type": "code",
      "execution_count": 3,
      "id": "135746ef-e530-4efd-9a71-0fbea9d8d257",
      "metadata": {
        "tags": [],
        "id": "135746ef-e530-4efd-9a71-0fbea9d8d257"
      },
      "outputs": [],
      "source": [
        "# Read xlsx file to start analysis task\n",
        "\n",
        "df = pd.read_excel(\"supermarket_transactions.xlsx\", sheet_name=\"supermarket_transactions\")"
      ]
    },
    {
      "cell_type": "code",
      "execution_count": 13,
      "id": "04b2d074-379a-462d-a7f0-edddf6ea6308",
      "metadata": {
        "tags": [],
        "colab": {
          "base_uri": "https://localhost:8080/"
        },
        "id": "04b2d074-379a-462d-a7f0-edddf6ea6308",
        "outputId": "35280419-6b90-4435-c769-c7bd830e224f"
      },
      "outputs": [
        {
          "output_type": "stream",
          "name": "stdout",
          "text": [
            "Total number of rows: 50783. And total number of columns: 12\n"
          ]
        }
      ],
      "source": [
        "# Check the data shape\n",
        "\n",
        "print('Total number of rows: '+ str(len(df)) +'. And total number of columns: '+str(len(df.columns)))"
      ]
    },
    {
      "cell_type": "code",
      "execution_count": 14,
      "id": "df5b9d1f-268a-41bb-8d33-6e0a22e278d7",
      "metadata": {
        "tags": [],
        "colab": {
          "base_uri": "https://localhost:8080/"
        },
        "id": "df5b9d1f-268a-41bb-8d33-6e0a22e278d7",
        "outputId": "488c460f-92ed-43ed-fafe-4bd6214470cc"
      },
      "outputs": [
        {
          "output_type": "stream",
          "name": "stdout",
          "text": [
            "Index(['Unnamed: 0', 'id', 'timestamp', 'quantity', 'product_id',\n",
            "       'product_name', 'unit_price', 'total_amount', 'store', 'payment_method',\n",
            "       'customer_id', 'customer_type'],\n",
            "      dtype='object')\n"
          ]
        }
      ],
      "source": [
        "# Check what the columns are\n",
        "\n",
        "print(df.columns)"
      ]
    },
    {
      "cell_type": "code",
      "execution_count": 15,
      "id": "632cbdce-e3de-4889-aa07-0c0b855c07f0",
      "metadata": {
        "tags": [],
        "colab": {
          "base_uri": "https://localhost:8080/"
        },
        "id": "632cbdce-e3de-4889-aa07-0c0b855c07f0",
        "outputId": "e9480320-7a61-40c5-c44d-376c9f2c00f3"
      },
      "outputs": [
        {
          "output_type": "stream",
          "name": "stdout",
          "text": [
            "Total apples purchased in cash: 117\n"
          ]
        }
      ],
      "source": [
        "# Across locations, how many apples were purchased in cash?\n",
        "\n",
        "# To answer the question, we first filter the data points based on product name and payment method\n",
        "apples_cash = df[(df['product_name'] == 'apple') & (df['payment_method'] == 'cash')]\n",
        "\n",
        "# Then focus on the quantity purchased and sum it all up\n",
        "total_apples_cash = apples_cash['quantity'].sum()\n",
        "\n",
        "print(\"Total apples purchased in cash:\", total_apples_cash)"
      ]
    },
    {
      "cell_type": "code",
      "execution_count": 17,
      "id": "bbcf9446-c9c7-4421-8da7-591d9877fee4",
      "metadata": {
        "tags": [],
        "colab": {
          "base_uri": "https://localhost:8080/"
        },
        "id": "bbcf9446-c9c7-4421-8da7-591d9877fee4",
        "outputId": "43eb0c07-6335-46bc-b1c7-043debe6622e"
      },
      "outputs": [
        {
          "output_type": "stream",
          "name": "stdout",
          "text": [
            "Total amount of cash spent on apple: 537.0299999999997\n"
          ]
        }
      ],
      "source": [
        "# How much total cash was spent on these apples?\n",
        "\n",
        "#As we already filtered in the previous question, we simply need to focus on total_amount and sum it all up.\n",
        "total_apples_cash_spend = apples_cash['total_amount'].sum()\n",
        "\n",
        "print(\"Total amount of cash spent on apple:\", total_apples_cash_spend)"
      ]
    },
    {
      "cell_type": "code",
      "execution_count": 25,
      "id": "bc3fd1e2-968c-4b62-9f38-669d86f6385b",
      "metadata": {
        "colab": {
          "base_uri": "https://localhost:8080/"
        },
        "id": "bc3fd1e2-968c-4b62-9f38-669d86f6385b",
        "outputId": "4fe72525-8bdc-4683-a718-12e1d2b923e7"
      },
      "outputs": [
        {
          "output_type": "stream",
          "name": "stdout",
          "text": [
            "Total amount spent by Bakershire non-members: 2857.5099999999993\n"
          ]
        }
      ],
      "source": [
        "# Across all payment methods, how much money was spent at the Bakershire store location by non-member customers?\n",
        "\n",
        "# Filter the data by location and member status\n",
        "bakershire_non_members = df[(df['store'] == 'Bakershire') & (df['customer_type'] == 'non-member')]\n",
        "\n",
        "total_bakershire_non_member_spend = bakershire_non_members['total_amount'].sum()\n",
        "\n",
        "print(\"Total amount spent by Bakershire non-members:\", total_bakershire_non_member_spend)"
      ]
    },
    {
      "cell_type": "code",
      "execution_count": null,
      "id": "747fa952-b143-4a5a-bca6-65fd92995c2c",
      "metadata": {
        "id": "747fa952-b143-4a5a-bca6-65fd92995c2c"
      },
      "outputs": [],
      "source": []
    }
  ],
  "metadata": {
    "kernelspec": {
      "display_name": "Python 3 (ipykernel)",
      "language": "python",
      "name": "python3"
    },
    "language_info": {
      "codemirror_mode": {
        "name": "ipython",
        "version": 3
      },
      "file_extension": ".py",
      "mimetype": "text/x-python",
      "name": "python",
      "nbconvert_exporter": "python",
      "pygments_lexer": "ipython3",
      "version": "3.11.5"
    },
    "colab": {
      "provenance": []
    }
  },
  "nbformat": 4,
  "nbformat_minor": 5
}